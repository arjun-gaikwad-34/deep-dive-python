{
 "cells": [
  {
   "cell_type": "code",
   "execution_count": 10,
   "metadata": {},
   "outputs": [
    {
     "name": "stdout",
     "output_type": "stream",
     "text": [
      "Arjun rajendra Gaikwad Vanshaj Society\n"
     ]
    }
   ],
   "source": [
    "my_statement = \"Arjun rajendra Gaikwad \\\n",
    "Vanshaj Society\"  # adding a slash keeps continuation\n",
    "print(my_statement)"
   ]
  },
  {
   "cell_type": "code",
   "execution_count": 14,
   "metadata": {},
   "outputs": [
    {
     "name": "stdout",
     "output_type": "stream",
     "text": [
      "This works!!\n"
     ]
    }
   ],
   "source": [
    "a, b, c = 10, 20, 30\n",
    "if a > 5 and b > 10 and c > 20:\n",
    "    print(\"This works!!\")"
   ]
  },
  {
   "cell_type": "code",
   "execution_count": 22,
   "metadata": {},
   "outputs": [
    {
     "name": "stdout",
     "output_type": "stream",
     "text": [
      "Try again!!\n",
      "Try again!!\n",
      "number : 14 is okay!!\n"
     ]
    }
   ],
   "source": [
    "# We want to take a number that is greater than 10 but less than 20, if not then re enter number\n",
    "while True:\n",
    "    number = int(input(\"Enter a number between > 10 and < 20\"))\n",
    "    if number > 10 and number < 20:\n",
    "        break\n",
    "    else:\n",
    "        print(\"Try again!!\")\n",
    "\n",
    "print(f\"number : {number} is okay!!\")"
   ]
  },
  {
   "cell_type": "code",
   "execution_count": 30,
   "metadata": {},
   "outputs": [
    {
     "name": "stdout",
     "output_type": "stream",
     "text": [
      "0\n",
      "Odd tha!!\n",
      "2\n",
      "Odd tha!!\n",
      "4\n",
      "Odd tha!!\n",
      "6\n",
      "Odd tha!!\n",
      "8\n",
      "Odd tha!!\n",
      "10\n",
      "Odd tha!!\n"
     ]
    }
   ],
   "source": [
    "digit = 0\n",
    "\n",
    "while digit <= 11:\n",
    "    if digit % 2 == 0:\n",
    "        print(digit)\n",
    "    else:\n",
    "        print(\"Odd tha!!\")\n",
    "    digit += 1"
   ]
  },
  {
   "cell_type": "code",
   "execution_count": null,
   "metadata": {},
   "outputs": [],
   "source": []
  }
 ],
 "metadata": {
  "kernelspec": {
   "display_name": "deepdivevenv",
   "language": "python",
   "name": "python3"
  },
  "language_info": {
   "codemirror_mode": {
    "name": "ipython",
    "version": 3
   },
   "file_extension": ".py",
   "mimetype": "text/x-python",
   "name": "python",
   "nbconvert_exporter": "python",
   "pygments_lexer": "ipython3",
   "version": "3.12.1"
  }
 },
 "nbformat": 4,
 "nbformat_minor": 2
}
