{
 "cells": [
  {
   "cell_type": "code",
   "execution_count": 10,
   "metadata": {},
   "outputs": [
    {
     "name": "stdout",
     "output_type": "stream",
     "text": [
      "Arjun rajendra Gaikwad Vanshaj Society\n"
     ]
    }
   ],
   "source": [
    "my_statement = \"Arjun rajendra Gaikwad \\\n",
    "Vanshaj Society\"  # adding a slash keeps continuation\n",
    "print(my_statement)"
   ]
  },
  {
   "cell_type": "code",
   "execution_count": 14,
   "metadata": {},
   "outputs": [
    {
     "name": "stdout",
     "output_type": "stream",
     "text": [
      "This works!!\n"
     ]
    }
   ],
   "source": [
    "a, b, c = 10, 20, 30\n",
    "if a > 5 and b > 10 and c > 20:\n",
    "    print(\"This works!!\")"
   ]
  },
  {
   "cell_type": "code",
   "execution_count": 22,
   "metadata": {},
   "outputs": [
    {
     "name": "stdout",
     "output_type": "stream",
     "text": [
      "Try again!!\n",
      "Try again!!\n",
      "number : 14 is okay!!\n"
     ]
    }
   ],
   "source": [
    "# We want to take a number that is greater than 10 but less than 20, if not then re enter number\n",
    "while True:\n",
    "    number = int(input(\"Enter a number between > 10 and < 20\"))\n",
    "    if number > 10 and number < 20:\n",
    "        break\n",
    "    else:\n",
    "        print(\"Try again!!\")\n",
    "\n",
    "print(f\"number : {number} is okay!!\")"
   ]
  },
  {
   "cell_type": "code",
   "execution_count": 30,
   "metadata": {},
   "outputs": [
    {
     "name": "stdout",
     "output_type": "stream",
     "text": [
      "0\n",
      "Odd tha!!\n",
      "2\n",
      "Odd tha!!\n",
      "4\n",
      "Odd tha!!\n",
      "6\n",
      "Odd tha!!\n",
      "8\n",
      "Odd tha!!\n",
      "10\n",
      "Odd tha!!\n"
     ]
    }
   ],
   "source": [
    "digit = 0\n",
    "\n",
    "while digit <= 11:\n",
    "    if digit % 2 == 0:\n",
    "        print(digit)\n",
    "    else:\n",
    "        print(\"Odd tha!!\")\n",
    "    digit += 1"
   ]
  },
  {
   "cell_type": "code",
   "execution_count": 5,
   "metadata": {},
   "outputs": [
    {
     "name": "stdout",
     "output_type": "stream",
     "text": [
      "Found the name Aniket is greater than 5 characters!!\n",
      "Found the name Rajendra is greater than 5 characters!!\n",
      "Found the name Gaikwad is greater than 5 characters!!\n"
     ]
    }
   ],
   "source": [
    "names = [\"Arjun\", \"Aniket\", \"Rama\", \"Rajendra\", \"Gaikwad\"]\n",
    "\n",
    "length_of_name = None\n",
    "item = -1\n",
    "\n",
    "while item <= len(names):\n",
    "    item += 1\n",
    "    if item > 4:\n",
    "        break\n",
    "    length_of_name = len(names[item])\n",
    "    if length_of_name <= 5:\n",
    "        continue\n",
    "    print(f\"Found the name {names[item]} is greater than 5 characters!!\")"
   ]
  },
  {
   "cell_type": "code",
   "execution_count": 8,
   "metadata": {},
   "outputs": [
    {
     "name": "stdout",
     "output_type": "stream",
     "text": [
      "I had to append the new name to the list!!\n",
      " ['Arjun', 'Aniket', 'Rama', 'Rajendra', 'Gaikwad', 'Bond', 'James']\n"
     ]
    }
   ],
   "source": [
    "# Using else clause in while loop\n",
    "new_name = \"James\"\n",
    "idx = 0\n",
    "while idx < len(names):\n",
    "    if new_name == names[idx]:\n",
    "        print(f\"Name {new_name} is found in list!\")\n",
    "        break\n",
    "    idx += 1\n",
    "else:\n",
    "    names.append(new_name)\n",
    "    print(f\"I had to append the new name to the list!!\\n {names}\")"
   ]
  },
  {
   "cell_type": "markdown",
   "metadata": {},
   "source": [
    "For loop:\n",
    "In Python an iterable is an object that returns values one at a time.\n"
   ]
  },
  {
   "cell_type": "code",
   "execution_count": 17,
   "metadata": {},
   "outputs": [
    {
     "name": "stdout",
     "output_type": "stream",
     "text": [
      "JAMES\n",
      "BOND\n",
      "GAIKWAD\n",
      "RAJENDRA\n",
      "RAMA\n",
      "ANIKET\n",
      "ARJUN\n"
     ]
    }
   ],
   "source": [
    "for name in names[::-1]:\n",
    "    print(name.upper())"
   ]
  },
  {
   "cell_type": "code",
   "execution_count": 26,
   "metadata": {},
   "outputs": [
    {
     "name": "stdout",
     "output_type": "stream",
     "text": [
      "[10, 2, 8, 10, 0, 8, 10]\n"
     ]
    }
   ],
   "source": [
    "import random\n",
    "\n",
    "my_list = []\n",
    "while len(my_list) < 7:\n",
    "    my_list.append(random.randint(0, 10))\n",
    "print(my_list)"
   ]
  },
  {
   "cell_type": "code",
   "execution_count": 27,
   "metadata": {},
   "outputs": [
    {
     "name": "stdout",
     "output_type": "stream",
     "text": [
      "Inside finally block..\n",
      "Inside finally block..\n",
      "Inside finally block..\n",
      "Inside finally block..\n",
      "Tried division by 0 of 100\n",
      "Inside finally block..\n",
      "Inside finally block..\n",
      "Inside finally block..\n"
     ]
    }
   ],
   "source": [
    "for i in my_list:\n",
    "    try:\n",
    "        100 / i\n",
    "    except ZeroDivisionError:\n",
    "        print(f\"Tried division by {i} of 100\")\n",
    "        continue\n",
    "    finally:\n",
    "        print(\"Inside finally block..\")"
   ]
  },
  {
   "cell_type": "markdown",
   "metadata": {},
   "source": [
    "How to get index in a for loop\n"
   ]
  },
  {
   "cell_type": "code",
   "execution_count": 3,
   "metadata": {},
   "outputs": [
    {
     "name": "stdout",
     "output_type": "stream",
     "text": [
      "0 is A\n",
      "1 is r\n",
      "2 is j\n",
      "3 is u\n",
      "4 is n\n"
     ]
    }
   ],
   "source": [
    "for _, character in enumerate(\"Arjun\"):\n",
    "    print(f\"{_} is {character}\")"
   ]
  },
  {
   "cell_type": "markdown",
   "metadata": {},
   "source": [
    "Classes\n"
   ]
  },
  {
   "cell_type": "code",
   "execution_count": 25,
   "metadata": {},
   "outputs": [],
   "source": [
    "class Rectangle:\n",
    "    def __init__(self, width, height):\n",
    "        self.width = width\n",
    "        self.height = height\n",
    "\n",
    "    def area(self):\n",
    "        return self.width * self.height\n",
    "\n",
    "    def perimeter(self):\n",
    "        return 2 * (self.height * self.width)\n",
    "\n",
    "    def __str__(self):\n",
    "        return f\"{self. width} by {self.height}\"\n",
    "\n",
    "    def __eq__(self, other):\n",
    "        if isinstance(other, Rectangle):\n",
    "            return self.width == other.width and self.height == other.height\n",
    "        else:\n",
    "            return False"
   ]
  },
  {
   "cell_type": "code",
   "execution_count": 26,
   "metadata": {},
   "outputs": [
    {
     "name": "stdout",
     "output_type": "stream",
     "text": [
      "200, 400\n",
      "10 by 20\n"
     ]
    },
    {
     "data": {
      "text/plain": [
       "'10 by 20'"
      ]
     },
     "execution_count": 26,
     "metadata": {},
     "output_type": "execute_result"
    }
   ],
   "source": [
    "my_rectangle = Rectangle(10, 20)\n",
    "print(f\"{my_rectangle.area()}, {my_rectangle.perimeter()}\")\n",
    "print(f\"{str(my_rectangle)}\")\n",
    "str(my_rectangle)"
   ]
  },
  {
   "cell_type": "code",
   "execution_count": 27,
   "metadata": {},
   "outputs": [],
   "source": [
    "another_rectangle = Rectangle(10, 20)"
   ]
  },
  {
   "cell_type": "code",
   "execution_count": 28,
   "metadata": {},
   "outputs": [
    {
     "data": {
      "text/plain": [
       "False"
      ]
     },
     "execution_count": 28,
     "metadata": {},
     "output_type": "execute_result"
    }
   ],
   "source": [
    "my_rectangle is another_rectangle"
   ]
  },
  {
   "cell_type": "code",
   "execution_count": 29,
   "metadata": {},
   "outputs": [
    {
     "data": {
      "text/plain": [
       "True"
      ]
     },
     "execution_count": 29,
     "metadata": {},
     "output_type": "execute_result"
    }
   ],
   "source": [
    "my_rectangle == another_rectangle"
   ]
  },
  {
   "cell_type": "code",
   "execution_count": 30,
   "metadata": {},
   "outputs": [
    {
     "data": {
      "text/plain": [
       "False"
      ]
     },
     "execution_count": 30,
     "metadata": {},
     "output_type": "execute_result"
    }
   ],
   "source": [
    "my_rectangle == (10, 20)"
   ]
  },
  {
   "cell_type": "code",
   "execution_count": 35,
   "metadata": {},
   "outputs": [],
   "source": [
    "class Square(Rectangle):\n",
    "    def __init__(self, side):\n",
    "        self.width = side\n",
    "        self.height = side\n",
    "\n",
    "\n",
    "my_square = Square(10)"
   ]
  },
  {
   "cell_type": "code",
   "execution_count": 36,
   "metadata": {},
   "outputs": [
    {
     "data": {
      "text/plain": [
       "False"
      ]
     },
     "execution_count": 36,
     "metadata": {},
     "output_type": "execute_result"
    }
   ],
   "source": [
    "my_rectangle == my_square"
   ]
  },
  {
   "cell_type": "code",
   "execution_count": 37,
   "metadata": {},
   "outputs": [
    {
     "data": {
      "text/plain": [
       "True"
      ]
     },
     "execution_count": 37,
     "metadata": {},
     "output_type": "execute_result"
    }
   ],
   "source": [
    "isinstance(my_square, Rectangle)"
   ]
  },
  {
   "cell_type": "code",
   "execution_count": null,
   "metadata": {},
   "outputs": [],
   "source": []
  }
 ],
 "metadata": {
  "kernelspec": {
   "display_name": "deepdivevenv",
   "language": "python",
   "name": "python3"
  },
  "language_info": {
   "codemirror_mode": {
    "name": "ipython",
    "version": 3
   },
   "file_extension": ".py",
   "mimetype": "text/x-python",
   "name": "python",
   "nbconvert_exporter": "python",
   "pygments_lexer": "ipython3",
   "version": "3.12.1"
  }
 },
 "nbformat": 4,
 "nbformat_minor": 2
}
